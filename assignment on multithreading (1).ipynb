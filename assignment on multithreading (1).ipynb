{
 "cells": [
  {
   "cell_type": "markdown",
   "id": "fbb87e72-a0c0-41b1-a168-8f200113e304",
   "metadata": {},
   "source": [
    "# what is multithreading\n",
    "        Multithreading is a threading technique in Python programming to run multiple threads concurrently by rapidly switching between threads with a CPU help (called context switching). \n",
    "        Besides, it allows sharing of its data space with the main threads inside a process that share information and communication with other threads easier than individual processes.\n",
    "        Multithreading aims to perform multiple tasks simultaneously, which increases performance, speed and improves the rendering of the application."
   ]
  },
  {
   "cell_type": "markdown",
   "id": "336dc229-e951-4afe-86af-db6c2f27425a",
   "metadata": {},
   "source": [
    "# The threading module is used to implement the threading concept."
   ]
  },
  {
   "cell_type": "markdown",
   "id": "831cd564-7f22-47d4-9c17-141368a46acf",
   "metadata": {},
   "source": [
    "# The activeCount() function is used to find the number of thread objects that are active at any instant."
   ]
  },
  {
   "cell_type": "markdown",
   "id": "52876dbe-7927-4e40-9f76-dbd4e43085ef",
   "metadata": {},
   "source": [
    "# The currentThread() in threading is used to return the current thread object."
   ]
  },
  {
   "cell_type": "markdown",
   "id": "8b8ec992-e497-44aa-8b11-73c8f0e962d5",
   "metadata": {},
   "source": [
    "# The enumarate() in threading is used to return the list of all the thread class ojects which are currently alive."
   ]
  },
  {
   "cell_type": "markdown",
   "id": "542e587f-1f38-4776-9125-f9c235c8cfa9",
   "metadata": {},
   "source": [
    "# The start() function is used to start the threading ."
   ]
  },
  {
   "cell_type": "markdown",
   "id": "ff525e74-b7e8-4ed7-bad2-2342c195b6c6",
   "metadata": {},
   "source": [
    "# The join() function is used to that the next thread can be run after the current thread is finished."
   ]
  },
  {
   "cell_type": "markdown",
   "id": "f129065c-0927-4fd2-816f-366bf4c9cd1d",
   "metadata": {},
   "source": [
    "# The isalive() function is used to check whether that thread is still running or not."
   ]
  },
  {
   "cell_type": "code",
   "execution_count": 15,
   "id": "cb463598-b229-4026-b2f1-cea2b3c9498a",
   "metadata": {},
   "outputs": [],
   "source": [
    "import threading"
   ]
  },
  {
   "cell_type": "code",
   "execution_count": null,
   "id": "95f3b89e-6837-41ec-b5e5-d4dc97d5ff2c",
   "metadata": {},
   "outputs": [],
   "source": [
    "def square(l1):\n",
    "    l=[]\n",
    "    for i in l1:\n",
    "        a=i**2\n",
    "        l.append(a)\n",
    "    print(l)"
   ]
  },
  {
   "cell_type": "code",
   "execution_count": 9,
   "id": "e307ff72-54ac-46fb-a6e6-3edeac7a7d19",
   "metadata": {},
   "outputs": [],
   "source": [
    "def cube(l2):\n",
    "    c=[]\n",
    "    for j in l2:\n",
    "        b=j**3\n",
    "        c.append(b)\n",
    "    print(c)"
   ]
  },
  {
   "cell_type": "code",
   "execution_count": 22,
   "id": "1df9fd76-1a3e-45c7-8b4b-822d445ebda7",
   "metadata": {},
   "outputs": [],
   "source": [
    "d=[1,2,3,4,5,6,7,8,9,10]"
   ]
  },
  {
   "cell_type": "code",
   "execution_count": 31,
   "id": "070e9db6-fefd-46e2-9c3b-092a88f53bb9",
   "metadata": {},
   "outputs": [
    {
     "data": {
      "text/plain": [
       "[<Thread(Thread-96, initial)>,\n",
       " <Thread(Thread-97, initial)>,\n",
       " <Thread(Thread-98, initial)>,\n",
       " <Thread(Thread-99, initial)>,\n",
       " <Thread(Thread-100, initial)>,\n",
       " <Thread(Thread-101, initial)>,\n",
       " <Thread(Thread-102, initial)>,\n",
       " <Thread(Thread-103, initial)>,\n",
       " <Thread(Thread-104, initial)>,\n",
       " <Thread(Thread-105, initial)>]"
      ]
     },
     "execution_count": 31,
     "metadata": {},
     "output_type": "execute_result"
    }
   ],
   "source": [
    "t1=[threading.Thread(target=square,args=(d[i])) for i in range(len(d))]\n",
    "t1"
   ]
  },
  {
   "cell_type": "code",
   "execution_count": 32,
   "id": "b308fad0-d769-47d1-a856-da29c135ea53",
   "metadata": {},
   "outputs": [
    {
     "data": {
      "text/plain": [
       "[<Thread(Thread-106, initial)>,\n",
       " <Thread(Thread-107, initial)>,\n",
       " <Thread(Thread-108, initial)>,\n",
       " <Thread(Thread-109, initial)>,\n",
       " <Thread(Thread-110, initial)>,\n",
       " <Thread(Thread-111, initial)>,\n",
       " <Thread(Thread-112, initial)>,\n",
       " <Thread(Thread-113, initial)>,\n",
       " <Thread(Thread-114, initial)>,\n",
       " <Thread(Thread-115, initial)>]"
      ]
     },
     "execution_count": 32,
     "metadata": {},
     "output_type": "execute_result"
    }
   ],
   "source": [
    "t2=[threading.Thread(target=cube,args=(d[i])) for i in range(len(d))]\n",
    "t2"
   ]
  },
  {
   "cell_type": "markdown",
   "id": "a7d52160-c123-4d23-97ea-ccd7b903d1ae",
   "metadata": {},
   "source": [
    "# advantages and disadvantanges of multithreading"
   ]
  },
  {
   "cell_type": "markdown",
   "id": "d52e3d0c-36df-4474-9e45-e29242bf2ce7",
   "metadata": {},
   "source": [
    "# advantages\n",
    "        1. Since the threads are independent of each other, the user is not blocked.\n",
    "        2. Since the threads do parallel execution, the resources of the device can be used efficiently.\n",
    "        3. Enhance the performance of the multi-processor machines.\n",
    "        4. Many of the GUIs and CPUs used in the current days include multithreading."
   ]
  },
  {
   "cell_type": "markdown",
   "id": "7d466ae3-61ef-4a17-ad15-85ada42ac753",
   "metadata": {},
   "source": [
    "# disadvantages\n",
    "        1. The complexity increases with the increase in the number of threads\n",
    "        2. It is necessary to maintain synchronization while sharing the resources among multiple threads\n",
    "        3. It is difficult to debug the programs with threads as the result is sometimes unpredictable.\n",
    "        4. The process of constructing and synchronizing the threads is CPU/memory intensive."
   ]
  },
  {
   "cell_type": "code",
   "execution_count": null,
   "id": "e5e65a4d-025c-4077-8680-b328c524a196",
   "metadata": {},
   "outputs": [],
   "source": []
  }
 ],
 "metadata": {
  "kernelspec": {
   "display_name": "Python 3 (ipykernel)",
   "language": "python",
   "name": "python3"
  },
  "language_info": {
   "codemirror_mode": {
    "name": "ipython",
    "version": 3
   },
   "file_extension": ".py",
   "mimetype": "text/x-python",
   "name": "python",
   "nbconvert_exporter": "python",
   "pygments_lexer": "ipython3",
   "version": "3.9.13"
  }
 },
 "nbformat": 4,
 "nbformat_minor": 5
}
